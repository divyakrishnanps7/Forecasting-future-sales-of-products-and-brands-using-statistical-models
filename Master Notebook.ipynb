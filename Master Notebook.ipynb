{
 "cells": [
  {
   "cell_type": "code",
   "execution_count": null,
   "metadata": {},
   "outputs": [],
   "source": [
    "import numpy as np\n",
    "import pandas as pd\n",
    "import matplotlib.pyplot as plt\n",
    "\n",
    "from sklearn.model_selection import train_test_split\n",
    "from sklearn.ensemble import RandomForestRegressor\n",
    "from sklearn.linear_model import LinearRegression\n",
    "from sklearn import metrics\n"
   ]
  },
  {
   "cell_type": "code",
   "execution_count": null,
   "metadata": {},
   "outputs": [],
   "source": [
    "import matplotlib.pyplot as plt\n",
    "%matplotlib inline"
   ]
  },
  {
   "cell_type": "code",
   "execution_count": null,
   "metadata": {},
   "outputs": [],
   "source": [
    "# file_location=\"C:\\\\Users\\\\Divya Krishnan\\\\Desktop\\\\\";\n",
    "\n",
    "file_location = './'\n",
    "\n",
    "oos_data = pd.read_csv(file_location + \"daily_product_oos (2).csv\")\n",
    "\n",
    "sales_data = pd.read_csv(file_location + \"daily_product_sales (2).csv\")\n",
    "product_promotion_data = pd.read_csv(file_location +'product_promotions.csv')\n",
    "product_brand_map = pd.read_csv(file_location + \"product_brand_map.csv\")\n",
    "\n",
    "\n",
    "#data1.head()\n"
   ]
  },
  {
   "cell_type": "code",
   "execution_count": null,
   "metadata": {},
   "outputs": [],
   "source": []
  },
  {
   "cell_type": "code",
   "execution_count": null,
   "metadata": {},
   "outputs": [],
   "source": [
    "product_brand_map = np.array(product_brand_map['0.1']);"
   ]
  },
  {
   "cell_type": "code",
   "execution_count": null,
   "metadata": {},
   "outputs": [],
   "source": []
  },
  {
   "cell_type": "markdown",
   "metadata": {},
   "source": [
    "### Renaming Columns"
   ]
  },
  {
   "cell_type": "code",
   "execution_count": null,
   "metadata": {},
   "outputs": [],
   "source": [
    "col_names = sales_data.columns.values;\n",
    "col_names[0] = \"product_ids\";\n",
    "sales_data.columns = col_names;\n",
    "\n",
    "col_names = oos_data.columns.values;\n",
    "col_names[0] = \"product_ids\";\n",
    "oos_data.columns = col_names;"
   ]
  },
  {
   "cell_type": "markdown",
   "metadata": {},
   "source": []
  },
  {
   "cell_type": "code",
   "execution_count": null,
   "metadata": {},
   "outputs": [],
   "source": []
  },
  {
   "cell_type": "code",
   "execution_count": null,
   "metadata": {},
   "outputs": [],
   "source": [
    "def get_matrix_from_vector(vec, T,S):\n",
    "    m = len(vec);\n",
    "    n = int( 1/S*(m-T+1) );\n",
    "    data_mat = np.zeros((n, T));\n",
    "    for i in range(0, n):\n",
    "            f=int(S*i)\n",
    "            data_mat[i, :] = vec[f:f+T]   \n",
    "    return data_mat"
   ]
  },
  {
   "cell_type": "code",
   "execution_count": null,
   "metadata": {},
   "outputs": [],
   "source": [
    "def normalize_vector(vec):\n",
    "    vec = (vec - np.mean(vec))/np.std(vec);\n",
    "    return vec;"
   ]
  },
  {
   "cell_type": "code",
   "execution_count": null,
   "metadata": {},
   "outputs": [],
   "source": [
    "def systematic_test_train_split(data_vector, fraction_test = 0.2, T = 30, S = 15, normalize=True, test_S = 1):\n",
    "\n",
    "    #random sampling\n",
    "    #missing.append((Data.isnull().sum()))\n",
    "    #T=40\n",
    "    #Data1=get_matrix_from_vector(Data,T=40,S=1)\n",
    "    #X=Data1[:,0:T-2]\n",
    "    #Y=Data1[:,T-1]\n",
    "    \n",
    "    if(normalize):\n",
    "        data_vector = normalize_vector(data_vector)\n",
    "    \n",
    "    #systematic sampling\n",
    "\n",
    "    k = int(data_vector.shape[0] * fraction_test)\n",
    "    \n",
    "    data_train = data_vector[0: -k];\n",
    "    train_matrix = get_matrix_from_vector(data_train, T, S)\n",
    "    x_train = train_matrix[:,0 : -1];\n",
    "    y_train = train_matrix[:, -1];\n",
    "    \n",
    "    data_test = data_vector[ -k:];\n",
    "    test_matrix = get_matrix_from_vector(data_test, T, S = test_S)\n",
    "    x_test = test_matrix[:, 0:-1]\n",
    "    y_test = test_matrix[:, -1]\n",
    "    \n",
    "    # x_train1, x_test1, y_train1, y_test1 = train_test_split(X,Y, test_size=0.20)\n",
    "\n",
    "    return (x_train, y_train, x_test, y_test)\n"
   ]
  },
  {
   "cell_type": "code",
   "execution_count": null,
   "metadata": {},
   "outputs": [],
   "source": [
    "#RF regression\n",
    "def random_forest(x_train,y_train,x_test,y_test):\n",
    "    \n",
    "    clf = RandomForestRegressor()\n",
    "\n",
    "    clf.fit(x_train, y_train)\n",
    "\n",
    "    predictions_sys = clf.predict(x_test)\n",
    "    predictions_tr_sys = clf.predict(x_train)\n",
    "\n",
    "\n",
    "    #MSE of test and train in RF\n",
    "\n",
    "    MSE_train = metrics.mean_squared_error(y_train,predictions_tr_sys)\n",
    "    MSE_test = metrics.mean_squared_error(y_test,predictions_sys)\n",
    "\n",
    "    return(MSE_test,MSE_train)\n",
    "\n",
    "\n",
    "\n"
   ]
  },
  {
   "cell_type": "code",
   "execution_count": null,
   "metadata": {
    "scrolled": true
   },
   "outputs": [],
   "source": [
    "#linear Regression\n",
    "\n",
    "def linear_regression(x_train,y_train,x_test,y_test):\n",
    "    \n",
    "    clf = LinearRegression()\n",
    "\n",
    "    clf.fit(x_train, y_train)\n",
    "\n",
    "    predictions_sys = clf.predict(x_test)\n",
    "    predictions_tr_sys = clf.predict(x_train)\n",
    "\n",
    "\n",
    "    MSE_train = metrics.mean_squared_error(y_train,predictions_tr_sys)\n",
    "    MSE_test = metrics.mean_squared_error(y_test,predictions_sys)\n",
    "\n",
    "    return MSE_test, MSE_train"
   ]
  },
  {
   "cell_type": "code",
   "execution_count": null,
   "metadata": {},
   "outputs": [],
   "source": [
    "def ampute_data_vector_with_past_mean(data_vector, L = 10):\n",
    "    #L refers to how much in the past we should look to calculate mean\n",
    "    for i,x in enumerate(data_vector):\n",
    "        if pd.isnull(x):\n",
    "            if i==0:\n",
    "                data_vector[i] = 0;\n",
    "            else:\n",
    "                start_index = i-L if i>=L else 0;\n",
    "                data_vector[i] = np.mean(data_vector[start_index:i]);\n",
    "    return data_vector"
   ]
  },
  {
   "cell_type": "code",
   "execution_count": null,
   "metadata": {},
   "outputs": [],
   "source": [
    "product_ids = sales_data[\"product_ids\"];\n",
    "sales_all_product_vectors = sales_data.drop(\"product_ids\", axis = 1)\n",
    "oos_all_product_vectors = oos_data.drop(\"product_ids\", axis = 1)"
   ]
  },
  {
   "cell_type": "code",
   "execution_count": null,
   "metadata": {},
   "outputs": [],
   "source": [
    "max_product_number = sales_all_product_vectors.shape[0]; #uncomment for the entire dataset\n",
    "# max_product_number = 200;"
   ]
  },
  {
   "cell_type": "markdown",
   "metadata": {},
   "source": [
    "### Amputing Data for Sales"
   ]
  },
  {
   "cell_type": "code",
   "execution_count": null,
   "metadata": {},
   "outputs": [],
   "source": [
    "np.sum(np.sum(np.array(pd.isnull(sales_all_product_vectors))[:max_product_number, :])) ##checking number of null values in the data"
   ]
  },
  {
   "cell_type": "code",
   "execution_count": null,
   "metadata": {},
   "outputs": [],
   "source": [
    "for i in range(max_product_number):\n",
    "    sales_all_product_vectors.iloc[i] = ampute_data_vector_with_past_mean(sales_all_product_vectors.iloc[i], L=10)"
   ]
  },
  {
   "cell_type": "code",
   "execution_count": null,
   "metadata": {},
   "outputs": [],
   "source": [
    "np.sum(np.sum(np.array(pd.isnull(sales_all_product_vectors))[:max_product_number, :]))"
   ]
  },
  {
   "cell_type": "markdown",
   "metadata": {},
   "source": [
    "### Preparing Dataset"
   ]
  },
  {
   "cell_type": "code",
   "execution_count": null,
   "metadata": {},
   "outputs": [],
   "source": [
    "T = 31;\n",
    "S = 15;\n",
    "test_S = 15;\n",
    "fraction_test = 0.2;\n",
    "number_of_groups = 250;\n",
    "normalize = True;"
   ]
  },
  {
   "cell_type": "code",
   "execution_count": 18,
   "metadata": {},
   "outputs": [],
   "source": [
    "add_oos_features = True;\n"
   ]
  },
  {
   "cell_type": "code",
   "execution_count": 19,
   "metadata": {},
   "outputs": [],
   "source": [
    "product_to_group_mapping = np.genfromtxt('product_to_cluster_mapping_k=250.csv', delimiter=',');"
   ]
  },
  {
   "cell_type": "code",
   "execution_count": 20,
   "metadata": {},
   "outputs": [
    {
     "data": {
      "text/plain": [
       "array([249., 228., 115., ...,  14.,  64., 145.])"
      ]
     },
     "execution_count": 20,
     "metadata": {},
     "output_type": "execute_result"
    }
   ],
   "source": [
    "product_to_group_mapping"
   ]
  },
  {
   "cell_type": "code",
   "execution_count": 21,
   "metadata": {},
   "outputs": [],
   "source": [
    "number_per_group = np.unique(product_to_group_mapping, return_counts=True)[1];"
   ]
  },
  {
   "cell_type": "code",
   "execution_count": 22,
   "metadata": {},
   "outputs": [
    {
     "data": {
      "text/plain": [
       "(array([ 7.,  3.,  1.,  0.,  3.,  2.,  0.,  3.,  4.,  6.,  3.,  5.,  6.,\n",
       "         1.,  4.,  3., 12.,  8.,  6.,  3.,  9.,  8.,  9.,  6., 12., 14.,\n",
       "         3., 15., 10., 12.,  5.,  6.,  7.,  8.,  4.,  9.,  4.,  9.,  5.,\n",
       "         0.,  6.,  5.,  1.,  2.,  0.,  0.,  0.,  0.,  0.,  1.]),\n",
       " array([ 1.  ,  2.62,  4.24,  5.86,  7.48,  9.1 , 10.72, 12.34, 13.96,\n",
       "        15.58, 17.2 , 18.82, 20.44, 22.06, 23.68, 25.3 , 26.92, 28.54,\n",
       "        30.16, 31.78, 33.4 , 35.02, 36.64, 38.26, 39.88, 41.5 , 43.12,\n",
       "        44.74, 46.36, 47.98, 49.6 , 51.22, 52.84, 54.46, 56.08, 57.7 ,\n",
       "        59.32, 60.94, 62.56, 64.18, 65.8 , 67.42, 69.04, 70.66, 72.28,\n",
       "        73.9 , 75.52, 77.14, 78.76, 80.38, 82.  ]),\n",
       " <a list of 50 Patch objects>)"
      ]
     },
     "execution_count": 22,
     "metadata": {},
     "output_type": "execute_result"
    },
    {
     "data": {
      "image/png": "[encoded data removed]",
      "text/plain": [
       "<matplotlib.figure.Figure at 0x23fa1ec46a0>"
      ]
     },
     "metadata": {},
     "output_type": "display_data"
    }
   ],
   "source": [
    "plt.hist(number_per_group, bins = 50)"
   ]
  },
  {
   "cell_type": "code",
   "execution_count": 23,
   "metadata": {},
   "outputs": [],
   "source": [
    "def get_group_train_test_matrices(df_of_series, fraction_test = 0.2, T = 30, S = 15, normalize=True, test_S = 1):\n",
    "    n_products = df_of_series.shape[0];\n",
    "    x_train_one_product, y_train_one_product, x_test_one_product, y_test_one_product = systematic_test_train_split(df_of_series.iloc[0], \n",
    "                                                                               fraction_test, T, S , normalize, test_S);\n",
    "        \n",
    "    if(n_products == 1):\n",
    "        return x_train_one_product, y_train_one_product, x_test_one_product, y_test_one_product\n",
    "    \n",
    "    n_train_per_product = len(y_train_one_product);\n",
    "    n_test_per_product = len(y_test_one_product);\n",
    "    \n",
    "    X_train = np.zeros([n_train_per_product * n_products, T-1]);\n",
    "    X_test = np.zeros([n_test_per_product * n_products, T-1]);\n",
    "    y_train = np.zeros(n_train_per_product * n_products);\n",
    "    y_test = np.zeros(n_test_per_product * n_products);\n",
    "    \n",
    "    i= 0;\n",
    "    X_train[i*n_train_per_product: (i+1)*n_train_per_product, :] = x_train_one_product;\n",
    "    y_train[i*n_train_per_product: (i+1)*n_train_per_product] = y_train_one_product;\n",
    "    X_test[i*n_test_per_product: (i+1)*n_test_per_product, :] = x_test_one_product;\n",
    "    y_test[i*n_test_per_product: (i+1)*n_test_per_product] = y_test_one_product;\n",
    "    \n",
    "    for i in range(1, n_products):\n",
    "        x_train_one_product, y_train_one_product, x_test_one_product, y_test_one_product = systematic_test_train_split(df_of_series.iloc[i], \n",
    "                                                                               fraction_test, T, S , normalize, test_S);\n",
    "        X_train[i*n_train_per_product: (i+1)*n_train_per_product, :] = x_train_one_product;\n",
    "        y_train[i*n_train_per_product: (i+1)*n_train_per_product] = y_train_one_product;\n",
    "        X_test[i*n_test_per_product: (i+1)*n_test_per_product, :] = x_test_one_product;\n",
    "        y_test[i*n_test_per_product: (i+1)*n_test_per_product] = y_test_one_product;\n",
    "    \n",
    "    return X_train, y_train, X_test, y_test\n",
    "    \n",
    "    "
   ]
  },
  {
   "cell_type": "markdown",
   "metadata": {},
   "source": [
    "#### For Campaign Data"
   ]
  },
  {
   "cell_type": "markdown",
   "metadata": {},
   "source": [
    "since we're just building and evaluating the model, I decided not to store the huge X matrices for all groups. We will just make the data, build model and evaluate"
   ]
  },
  {
   "cell_type": "code",
   "execution_count": 24,
   "metadata": {},
   "outputs": [],
   "source": [
    "# X_train_dict = {};\n",
    "# y_train_dict = {};\n",
    "# X_test_dict = {};\n",
    "# y_test_dict = {};\n",
    "\n",
    "# for group_number in range(number_of_groups):\n",
    "#     X_train, y_train, X_test, y_test = get_group_train_test_matrices( sales_all_product_vectors.iloc[ np.where(product_to_group_mapping == group_number)[0]], \n",
    "#                                                                     fraction_test, T, S, normalize);\n",
    "#     X_train_dict[group_number] = X_train;\n",
    "#     y_train_dict[group_number] = y_train;\n",
    "#     X_test_dict[group_number] = X_test;\n",
    "#     y_test_dict[group_number] = y_test;"
   ]
  },
  {
   "cell_type": "markdown",
   "metadata": {},
   "source": [
    "### Fitting Model"
   ]
  },
  {
   "cell_type": "code",
   "execution_count": 25,
   "metadata": {},
   "outputs": [],
   "source": [
    "lr_mse_train = np.zeros(number_of_groups);\n",
    "lr_mse_test = np.zeros(number_of_groups);\n",
    "rf_mse_train = np.zeros(number_of_groups);\n",
    "rf_mse_test = np.zeros(number_of_groups);"
   ]
  },
  {
   "cell_type": "code",
   "execution_count": 26,
   "metadata": {},
   "outputs": [
    {
     "name": "stdout",
     "output_type": "stream",
     "text": [
      "0\n",
      "1\n",
      "2\n",
      "3\n",
      "4\n",
      "5\n",
      "6\n",
      "7\n",
      "8\n",
      "9\n",
      "10\n",
      "11\n",
      "12\n",
      "13\n",
      "14\n",
      "15\n",
      "16\n",
      "17\n",
      "18\n",
      "19\n",
      "20\n",
      "21\n",
      "22\n",
      "23\n",
      "24\n",
      "25\n",
      "26\n",
      "27\n",
      "28\n",
      "29\n",
      "30\n",
      "31\n",
      "32\n",
      "33\n",
      "34\n",
      "35\n",
      "36\n",
      "37\n",
      "38\n",
      "39\n",
      "40\n",
      "41\n",
      "42\n",
      "43\n",
      "44\n",
      "45\n",
      "46\n",
      "47\n",
      "48\n",
      "49\n",
      "50\n",
      "51\n",
      "52\n",
      "53\n",
      "54\n",
      "55\n",
      "56\n",
      "57\n",
      "58\n",
      "59\n",
      "60\n",
      "61\n",
      "62\n",
      "63\n",
      "64\n",
      "65\n",
      "66\n",
      "67\n",
      "68\n",
      "69\n",
      "70\n",
      "71\n",
      "72\n",
      "73\n",
      "74\n",
      "75\n",
      "76\n",
      "77\n",
      "78\n",
      "79\n",
      "80\n",
      "81\n",
      "82\n",
      "83\n",
      "84\n",
      "85\n",
      "86\n",
      "87\n",
      "88\n",
      "89\n",
      "90\n",
      "91\n",
      "92\n",
      "93\n",
      "94\n",
      "95\n",
      "96\n",
      "97\n",
      "98\n",
      "99\n",
      "100\n",
      "101\n",
      "102\n",
      "103\n",
      "104\n",
      "105\n",
      "106\n",
      "107\n",
      "108\n",
      "109\n",
      "110\n",
      "111\n",
      "112\n",
      "113\n",
      "114\n",
      "115\n",
      "116\n",
      "117\n",
      "118\n",
      "119\n",
      "120\n",
      "121\n",
      "122\n",
      "123\n",
      "124\n",
      "125\n",
      "126\n",
      "127\n",
      "128\n",
      "129\n",
      "130\n",
      "131\n",
      "132\n",
      "133\n",
      "134\n",
      "135\n",
      "136\n",
      "137\n",
      "138\n",
      "139\n",
      "140\n",
      "141\n",
      "142\n",
      "143\n",
      "144\n",
      "145\n",
      "146\n",
      "147\n",
      "148\n",
      "149\n",
      "150\n",
      "151\n",
      "152\n",
      "153\n",
      "154\n",
      "155\n",
      "156\n",
      "157\n",
      "158\n",
      "159\n",
      "160\n",
      "161\n",
      "162\n",
      "163\n",
      "164\n",
      "165\n",
      "166\n",
      "167\n",
      "168\n",
      "169\n",
      "170\n",
      "171\n",
      "172\n",
      "173\n",
      "174\n",
      "175\n",
      "176\n",
      "177\n",
      "178\n",
      "179\n",
      "180\n",
      "181\n",
      "182\n",
      "183\n",
      "184\n",
      "185\n",
      "186\n",
      "187\n",
      "188\n",
      "189\n",
      "190\n",
      "191\n",
      "192\n",
      "193\n",
      "194\n",
      "195\n",
      "196\n",
      "197\n",
      "198\n",
      "199\n",
      "200\n",
      "201\n",
      "202\n",
      "203\n",
      "204\n",
      "205\n",
      "206\n",
      "207\n",
      "208\n",
      "209\n",
      "210\n",
      "211\n",
      "212\n",
      "213\n",
      "214\n",
      "215\n",
      "216\n",
      "217\n",
      "218\n",
      "219\n",
      "220\n",
      "221\n",
      "222\n",
      "223\n",
      "224\n",
      "225\n",
      "226\n",
      "227\n",
      "228\n",
      "229\n",
      "230\n",
      "231\n",
      "232\n",
      "233\n",
      "234\n",
      "235\n",
      "236\n",
      "237\n",
      "238\n",
      "239\n",
      "240\n",
      "241\n",
      "242\n",
      "243\n",
      "244\n",
      "245\n",
      "246\n",
      "247\n",
      "248\n",
      "249\n"
     ]
    },
    {
     "data": {
      "text/plain": [
       "(array([ 1.,  0.,  0.,  0.,  0.,  0.,  0.,  0.,  2.,  2.,  1.,  3.,  4.,\n",
       "        13., 10., 12., 15., 15., 14., 20., 26., 13., 21., 11.,  6.,  6.,\n",
       "         9.,  6.,  3.,  4.,  2.,  6.,  3.,  2.,  1.,  2.,  4.,  1.,  1.,\n",
       "         1.,  0.,  1.,  1.,  1.,  3.,  1.,  0.,  0.,  0.,  3.]),\n",
       " array([0.21162043, 0.23647665, 0.26133288, 0.2861891 , 0.31104533,\n",
       "        0.33590155, 0.36075778, 0.385614  , 0.41047022, 0.43532645,\n",
       "        0.46018267, 0.4850389 , 0.50989512, 0.53475135, 0.55960757,\n",
       "        0.58446379, 0.60932002, 0.63417624, 0.65903247, 0.68388869,\n",
       "        0.70874492, 0.73360114, 0.75845736, 0.78331359, 0.80816981,\n",
       "        0.83302604, 0.85788226, 0.88273848, 0.90759471, 0.93245093,\n",
       "        0.95730716, 0.98216338, 1.00701961, 1.03187583, 1.05673205,\n",
       "        1.08158828, 1.1064445 , 1.13130073, 1.15615695, 1.18101318,\n",
       "        1.2058694 , 1.23072562, 1.25558185, 1.28043807, 1.3052943 ,\n",
       "        1.33015052, 1.35500675, 1.37986297, 1.40471919, 1.42957542,\n",
       "        1.45443164]),\n",
       " <a list of 50 Patch objects>)"
      ]
     },
     "execution_count": 26,
     "metadata": {},
     "output_type": "execute_result"
    },
    {
     "data": {
      "image/png": "[encoded data removed]",
      "text/plain": [
       "<matplotlib.figure.Figure at 0x23fa1f3dcf8>"
      ]
     },
     "metadata": {},
     "output_type": "display_data"
    }
   ],
   "source": [
    "for group_number in range(number_of_groups):\n",
    "    print(group_number)\n",
    "    x_train, y_train, x_test, y_test = get_group_train_test_matrices( sales_all_product_vectors.iloc[ np.where(product_to_group_mapping == group_number)[0]], \n",
    "                                                                    fraction_test, T, S, normalize, test_S);\n",
    "    \n",
    "    if(add_oos_features):\n",
    "        x_train_oos, dummy, x_test_oos, dummy = get_group_train_test_matrices( oos_all_product_vectors.iloc[ np.where(product_to_group_mapping == group_number)[0]], \n",
    "                                                                    fraction_test, T, S, False, test_S);\n",
    "        x_train = np.hstack([x_train, x_train_oos]);\n",
    "        x_test = np.hstack( [x_test, x_test_oos]);\n",
    "  \n",
    "        \n",
    "        \n",
    "    lr_mse_test[group_number], lr_mse_train[group_number] = linear_regression(x_train, y_train, x_test, y_test);\n",
    "    rf_mse_test[group_number], rf_mse_train[group_number] = random_forest(x_train, y_train, x_test, y_test);\n",
    "plt.hist(rf_mse_test, bins = 50)"
   ]
  },
  {
   "cell_type": "markdown",
   "metadata": {},
   "source": [
    "### Checking MSE Values"
   ]
  },
  {
   "cell_type": "code",
   "execution_count": 27,
   "metadata": {},
   "outputs": [
    {
     "data": {
      "text/plain": [
       "(0.6662498428269256, 0.2921684130759358)"
      ]
     },
     "execution_count": 27,
     "metadata": {},
     "output_type": "execute_result"
    }
   ],
   "source": [
    "np.average(lr_mse_test, weights=number_per_group[:number_of_groups]), np.average(lr_mse_train, weights = number_per_group[:number_of_groups])"
   ]
  },
  {
   "cell_type": "code",
   "execution_count": 28,
   "metadata": {},
   "outputs": [
    {
     "data": {
      "text/plain": [
       "(0.7372335009771738, 0.059636603786564386)"
      ]
     },
     "execution_count": 28,
     "metadata": {},
     "output_type": "execute_result"
    }
   ],
   "source": [
    "np.average(rf_mse_test, weights=number_per_group[:number_of_groups]), np.average(rf_mse_train, weights = number_per_group[:number_of_groups])"
   ]
  },
  {
   "cell_type": "code",
   "execution_count": null,
   "metadata": {},
   "outputs": [],
   "source": []
  },
  {
   "cell_type": "code",
   "execution_count": null,
   "metadata": {},
   "outputs": [],
   "source": []
  },
  {
   "cell_type": "code",
   "execution_count": null,
   "metadata": {},
   "outputs": [],
   "source": []
  }
 ],
 "metadata": {
  "kernelspec": {
   "display_name": "Python 3",
   "language": "python",
   "name": "python3"
  },
  "language_info": {
   "codemirror_mode": {
    "name": "ipython",
    "version": 3
   },
   "file_extension": ".py",
   "mimetype": "text/x-python",
   "name": "python",
   "nbconvert_exporter": "python",
   "pygments_lexer": "ipython3",
   "version": "3.6.4"
  }
 },
 "nbformat": 4,
 "nbformat_minor": 2
}
