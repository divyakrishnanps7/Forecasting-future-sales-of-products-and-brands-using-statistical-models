{
 "cells": [
  {
   "cell_type": "code",
   "execution_count": null,
   "metadata": {},
   "outputs": [],
   "source": [
    "import numpy as np\n",
    "import pandas as pd\n",
    "import matplotlib.pyplot as plt\n",
    "\n",
    "from sklearn.model_selection import train_test_split\n",
    "from sklearn.ensemble import RandomForestRegressor\n",
    "from sklearn.linear_model import LinearRegression\n",
    "from sklearn import metrics"
   ]
  },
  {
   "cell_type": "code",
   "execution_count": null,
   "metadata": {},
   "outputs": [],
   "source": [
    "\n",
    "\n",
    "file_location = 'C:\\\\Users\\\\Divya Krishnan\\\\Desktop\\\\'\n",
    "#file_location = './'\n",
    "\n",
    "data_brand_map = pd.read_csv(file_location + \"product_brand_map.csv\")\n",
    "data3 = pd.read_csv(file_location + \"daily_product_sales (2).csv\")\n",
    "data_product_campaign = pd.read_csv(file_location + \"product_promotions.csv\")\n",
    "data_brand_campaign =  pd.read_csv( file_location +\"brand_promotions.csv\")"
   ]
  },
  {
   "cell_type": "code",
   "execution_count": null,
   "metadata": {},
   "outputs": [],
   "source": [
    "\n",
    "days = list(data3)\n",
    "days.pop(0)\n",
    "len(days)"
   ]
  },
  {
   "cell_type": "code",
   "execution_count": null,
   "metadata": {},
   "outputs": [],
   "source": [
    "col_names = data3.columns.values;\n",
    "col_names[0] = \"product_ids\";\n",
    "data3.columns = col_names;\n",
    "\n"
   ]
  },
  {
   "cell_type": "code",
   "execution_count": null,
   "metadata": {},
   "outputs": [],
   "source": [
    "def ampute_data_vector_with_past_mean(data_vector, L = 10):\n",
    "    #L refers to how much in the past we should look to calculate mean\n",
    "    for i,x in enumerate(data_vector):\n",
    "        if pd.isnull(x):\n",
    "            if i==0:\n",
    "                data_vector[i] = 0;\n",
    "            else:\n",
    "                start_index = i-L if i>=L else 0;\n",
    "                data_vector[i] = np.mean(data_vector[start_index:i]);\n",
    "    return data_vector\n"
   ]
  },
  {
   "cell_type": "code",
   "execution_count": null,
   "metadata": {},
   "outputs": [],
   "source": [
    "    camp_details = data_product_campaign.iloc[0]\n"
   ]
  },
  {
   "cell_type": "code",
   "execution_count": null,
   "metadata": {},
   "outputs": [],
   "source": [
    "product = camp_details[0]\n",
    "start_day = camp_details[1]"
   ]
  },
  {
   "cell_type": "code",
   "execution_count": null,
   "metadata": {},
   "outputs": [],
   "source": [
    "print(product,start_day)"
   ]
  },
  {
   "cell_type": "code",
   "execution_count": null,
   "metadata": {
    "scrolled": false
   },
   "outputs": [],
   "source": [
    "product_ids = data3[\"product_ids\"];\n",
    "all_product_vectors = data3.drop(\"product_ids\", axis = 1)\n"
   ]
  },
  {
   "cell_type": "code",
   "execution_count": null,
   "metadata": {},
   "outputs": [],
   "source": [
    "max_product_number = 10000;"
   ]
  },
  {
   "cell_type": "code",
   "execution_count": null,
   "metadata": {},
   "outputs": [],
   "source": [
    "for i in range(max_product_number):\n",
    "    all_product_vectors.iloc[i] = ampute_data_vector_with_past_mean(all_product_vectors.iloc[i], L=10)"
   ]
  },
  {
   "cell_type": "code",
   "execution_count": null,
   "metadata": {},
   "outputs": [],
   "source": [
    "numbr_product_campaigns = data_product_campaign.shape[0]\n"
   ]
  },
  {
   "cell_type": "code",
   "execution_count": null,
   "metadata": {},
   "outputs": [],
   "source": [
    "def prilim_analysis(start_day,product, data3):\n",
    "    for x in range(0,len(days)):\n",
    "        if start_day == days[x]:\n",
    "            if x>=180:\n",
    "                bfr = x-180 \n",
    "            else:\n",
    "                bfr = 0;\n",
    "            if x<=(len(days)-180):\n",
    "                after = x+180 \n",
    "            else:\n",
    "                after=len(days)-1;\n",
    "            mean = np.mean(data3.iloc[product][bfr:after])\n",
    "            return(mean)\n",
    "    return None    "
   ]
  },
  {
   "cell_type": "code",
   "execution_count": null,
   "metadata": {},
   "outputs": [],
   "source": [
    "sales_details = np.zeros(10000)\n",
    "def campaign_details(product,start_day,start_day_index, data3):\n",
    "        sale_details = data3.iloc[product]\n",
    "        mean = prilim_analysis(start_day,product, data3)\n",
    "        for k in range(start_day_index, len(days)):\n",
    "            if sales_details[k]<1.5*mean: \n",
    "                end_date = days[k]\n",
    "                return(end_date)\n",
    "        \n",
    "        return None\n",
    "                   \n",
    "            \n",
    "        "
   ]
  },
  {
   "cell_type": "code",
   "execution_count": null,
   "metadata": {},
   "outputs": [],
   "source": [
    "\n",
    "camp_details = np.zeros(data_product_campaign.shape[1])\n",
    "end_date_product_promotion = [None] * numbr_product_campaigns;\n",
    "for m in range (numbr_product_campaigns):\n",
    "    camp_details = data_product_campaign.iloc[m]\n",
    "    \n",
    "    product = camp_details[0]\n",
    "    start_day = camp_details[1]\n",
    "    index_start_day = days.index(start_day)\n",
    "    end_date_product_promotion[m] = campaign_details(product, start_day, index_start_day, data3)\n",
    "\n",
    "print(end_date_product_promotion)"
   ]
  },
  {
   "cell_type": "code",
   "execution_count": null,
   "metadata": {},
   "outputs": [],
   "source": []
  },
  {
   "cell_type": "code",
   "execution_count": null,
   "metadata": {},
   "outputs": [],
   "source": []
  },
  {
   "cell_type": "raw",
   "metadata": {},
   "source": []
  },
  {
   "cell_type": "code",
   "execution_count": null,
   "metadata": {},
   "outputs": [],
   "source": [
    "\n"
   ]
  },
  {
   "cell_type": "code",
   "execution_count": null,
   "metadata": {},
   "outputs": [],
   "source": []
  },
  {
   "cell_type": "code",
   "execution_count": null,
   "metadata": {},
   "outputs": [],
   "source": []
  },
  {
   "cell_type": "code",
   "execution_count": null,
   "metadata": {},
   "outputs": [],
   "source": []
  }
 ],
 "metadata": {
  "kernelspec": {
   "display_name": "Python 3",
   "language": "python",
   "name": "python3"
  },
  "language_info": {
   "codemirror_mode": {
    "name": "ipython",
    "version": 3
   },
   "file_extension": ".py",
   "mimetype": "text/x-python",
   "name": "python",
   "nbconvert_exporter": "python",
   "pygments_lexer": "ipython3",
   "version": "3.6.4"
  }
 },
 "nbformat": 4,
 "nbformat_minor": 2
}
